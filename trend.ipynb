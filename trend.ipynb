{
 "cells": [
  {
   "cell_type": "code",
   "execution_count": 2,
   "metadata": {},
   "outputs": [],
   "source": [
    "import xarray as xr\n",
    "import matplotlib.pyplot as plt\n",
    "import glob\n",
    "import re\n",
    "import pandas as pd\n",
    "import numpy as np\n",
    "from scipy.stats import linregress\n",
    "\n",
    "# Get all NetCDF files\n",
    "nc_files = sorted(glob.glob(\"2021/RDEFT4_*.nc\"))  # Adjust path if necessary\n",
    "\n",
    "# Extract dates from filenames\n",
    "def extract_date(filename):\n",
    "    match = re.search(r\"RDEFT4_(\\d{8})\", filename)\n",
    "    return pd.to_datetime(match.group(1), format=\"%Y%m%d\") if match else None\n",
    "\n",
    "# Store data\n",
    "dates = []\n",
    "mean_thickness = []\n",
    "\n",
    "for file_path in nc_files:\n",
    "    date = extract_date(file_path)\n",
    "    \n",
    "    if date:\n",
    "        ds = xr.open_dataset(file_path)\n",
    "        sea_ice = ds[\"sea_ice_thickness\"]\n",
    "        sea_ice_valid = sea_ice.where((sea_ice >= 0) & (sea_ice != -9999) & (sea_ice != -999))\n",
    "        \n",
    "        # Compute mean thickness\n",
    "        mean_value = sea_ice_valid.mean().item()\n",
    "        mean_thickness.append(mean_value)\n",
    "        dates.append(date)\n",
    "\n",
    "# Convert to Pandas DataFrame\n",
    "df = pd.DataFrame({\"Date\": dates, \"Mean_Thickness\": mean_thickness}).sort_values(\"Date\")\n",
    "\n"
   ]
  },
  {
   "cell_type": "code",
   "execution_count": 3,
   "metadata": {},
   "outputs": [
    {
     "name": "stdout",
     "output_type": "stream",
     "text": [
      "Saved: 2021/sea_ice_thickness_trend_2021.png\n"
     ]
    }
   ],
   "source": [
    "# Define output filename\n",
    "output_filename = \"2021/sea_ice_thickness_trend_2021.png\"\n",
    "\n",
    "# Create the plot\n",
    "plt.figure(figsize=(10, 5))\n",
    "plt.plot(df[\"Date\"], df[\"Mean_Thickness\"], marker=\"o\", linestyle=\"-\", color=\"b\", label=\"Observed\")\n",
    "\n",
    "plt.xlabel(\"Date\")\n",
    "plt.ylabel(\"Mean Sea Ice Thickness (Meters)\")\n",
    "plt.title(\"Trend of Sea Ice Thickness in 2021\")\n",
    "plt.legend()\n",
    "plt.grid()\n",
    "plt.xticks(rotation=45)\n",
    "\n",
    "# Fix the y-axis from 0 to 4 meters\n",
    "plt.ylim(1.3, 2.3)\n",
    "plt.xlim(pd.to_datetime(\"2020-10-14\"), pd.to_datetime(\"2021-04-30\"))\n",
    "# Save the plot\n",
    "plt.savefig(output_filename, bbox_inches=\"tight\", dpi=300)\n",
    "plt.close()  # Free memory\n",
    "\n",
    "print(f\"Saved: {output_filename}\")\n"
   ]
  }
 ],
 "metadata": {
  "kernelspec": {
   "display_name": "Python 3",
   "language": "python",
   "name": "python3"
  },
  "language_info": {
   "codemirror_mode": {
    "name": "ipython",
    "version": 3
   },
   "file_extension": ".py",
   "mimetype": "text/x-python",
   "name": "python",
   "nbconvert_exporter": "python",
   "pygments_lexer": "ipython3",
   "version": "3.11.1"
  }
 },
 "nbformat": 4,
 "nbformat_minor": 2
}
